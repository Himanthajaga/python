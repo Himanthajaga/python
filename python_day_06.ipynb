{
 "cells": [
  {
   "cell_type": "code",
   "execution_count": 9,
   "id": "a6b30a80",
   "metadata": {},
   "outputs": [
    {
     "name": "stdout",
     "output_type": "stream",
     "text": [
      "Parrot speaks\n"
     ]
    }
   ],
   "source": [
    "class Animal :\n",
    "    def speak(self):\n",
    "        print(\"Animal speaks\")\n",
    "\n",
    "class Parrot(Animal):\n",
    "    def display_info(self):\n",
    "        print(\"something\")\n",
    "        # method override\n",
    "    def speak(self):\n",
    "        print(\"Parrot speaks\")\n",
    "\n",
    "parrot_01 = Parrot()\n",
    "parrot_01.speak()"
   ]
  },
  {
   "cell_type": "code",
   "execution_count": 21,
   "id": "2317e3c7",
   "metadata": {},
   "outputs": [
    {
     "name": "stdout",
     "output_type": "stream",
     "text": [
      " Green colour Polly speaks\n"
     ]
    }
   ],
   "source": [
    "# sub class eke constructor ekak nahtham super class eke constructor eka call wenawa\n",
    "class Animal :\n",
    "    def __init__(self, name):\n",
    "        self.name = name\n",
    "\n",
    "class Parrot(Animal):\n",
    "    def __init__(self, name, color):\n",
    "        self.color = color\n",
    "        super().__init__(name)\n",
    "    def Speak(self):\n",
    "        print(f\" {self.color} colour {self.name} speaks\")\n",
    "\n",
    "parrot_01 = Parrot(\"Polly\", \"Green\")\n",
    "parrot_01.Speak()"
   ]
  },
  {
   "cell_type": "code",
   "execution_count": null,
   "id": "64ed6392",
   "metadata": {},
   "outputs": [
    {
     "name": "stdout",
     "output_type": "stream",
     "text": [
      "Name: Jhon, Salary: 4000\n",
      "Department: Finance\n"
     ]
    }
   ],
   "source": [
    "class Employee:\n",
    "    def __init__(self,name,salary):\n",
    "       self.name = name\n",
    "       self.salary = salary\n",
    "\n",
    "    def display_info(self):\n",
    "        print(f\"Name: {self.name}, Salary: {self.salary}\")\n",
    "\n",
    "class Manager(Employee):\n",
    "    def __init__(self,name,salary,department):\n",
    "        super().__init__(name,salary)  \n",
    "        self.department = department \n",
    "\n",
    "        \n",
    "    def display_info(self):\n",
    "        super().display_info()\n",
    "        print(f\"Department: {self.department}\")\n",
    "    \n",
    "manager_01 = Manager(\"Jhon\",4000,\"Finance\")\n",
    "manager_01.display_info()\n",
    "\n"
   ]
  },
  {
   "cell_type": "code",
   "execution_count": null,
   "id": "3d0d3c1e",
   "metadata": {},
   "outputs": [
    {
     "name": "stdout",
     "output_type": "stream",
     "text": [
      "Dasun\n"
     ]
    }
   ],
   "source": [
    "class Person:\n",
    "    def __init__(self):\n",
    "        self._name = \"Dasun\"\n",
    "class Employee(Person):\n",
    "    def display(self):\n",
    "        print(self._name)\n",
    "e = Employee() \n",
    "print(e._name)"
   ]
  },
  {
   "cell_type": "code",
   "execution_count": null,
   "id": "c0d77ee9",
   "metadata": {},
   "outputs": [],
   "source": [
    "class Person:\n",
    "    def __init__(self):\n",
    "        self.__name = \"Dasun\"\n",
    "    def get_name(self):\n",
    "        return self.__name\n",
    "p = Person()\n",
    "print(p.get_name())"
   ]
  },
  {
   "cell_type": "code",
   "execution_count": 31,
   "id": "7d6e7beb",
   "metadata": {},
   "outputs": [
    {
     "name": "stdout",
     "output_type": "stream",
     "text": [
      "owner: John Doe, Balance: 0.0\n",
      "owner: John Doe, Balance: 500.0\n"
     ]
    }
   ],
   "source": [
    "#Design a python class called \"Bank account\" that models a basic bank account using the concept of encapsulation.\n",
    "#Your class should\n",
    "#1.Use private attributes for account number, account owner name, and balance(should start at 0.0 by default).\n",
    "#2.Provide a constructor that accept only account number and owner name,\n",
    "#the balance should be initialized to 0.0.inside the constructor\n",
    "\n",
    "#3.Inculde the following public methods \n",
    "#display_account -prints the owners name and current balance but not the account number\n",
    "#deposit(amount)- adds money to the accounts only if the amount is valid.\n",
    "#withdraw(amount)- deducts money only if there is enough balance.\n",
    "#get_balance() - returns the current balance.\n",
    "\n",
    "#4.Implement a private method called validate_amount(amount) that \n",
    "#1.returns true if the amount is a positive number\n",
    "#2.Is used internally by both deposit() and withdaw() to validate inputs.\n",
    "\n",
    "\n",
    "class BankAccount:\n",
    "    def __init__(self, account_number, owner_name):\n",
    "        self.account_number = account_number\n",
    "        self.owner_name = owner_name\n",
    "        self.__balance = 0.0\n",
    "\n",
    "    def __validate_amount(self, amount):\n",
    "        return isinstance(amount, (int, float)) and amount > 0\n",
    "    \n",
    "    def display_account(self):\n",
    "        print(f\"owner: {self.owner_name}, Balance: {self.__balance}\")\n",
    "\n",
    "    def deposit(self, amount):\n",
    "        if self.__validate_amount(amount):\n",
    "            self.__balance += amount\n",
    "\n",
    "    def withdraw(self, amount):\n",
    "        if self.__validate_amount(amount) and amount <= self.__balance:\n",
    "            self.__balance -= amount\n",
    "\n",
    "    def get_balance(self):\n",
    "        return self.__balance\n",
    "    \n",
    "# Example usage\n",
    "account = BankAccount(\"123456\", \"John Doe\")\n",
    "account.display_account()\n",
    "account.deposit(1000)\n",
    "account.withdraw(500)\n",
    "account.display_account()"
   ]
  },
  {
   "cell_type": "code",
   "execution_count": null,
   "id": "c4e91769",
   "metadata": {},
   "outputs": [],
   "source": []
  }
 ],
 "metadata": {
  "kernelspec": {
   "display_name": "Python 3",
   "language": "python",
   "name": "python3"
  },
  "language_info": {
   "codemirror_mode": {
    "name": "ipython",
    "version": 3
   },
   "file_extension": ".py",
   "mimetype": "text/x-python",
   "name": "python",
   "nbconvert_exporter": "python",
   "pygments_lexer": "ipython3",
   "version": "3.13.4"
  }
 },
 "nbformat": 4,
 "nbformat_minor": 5
}
