{
 "cells": [
  {
   "cell_type": "code",
   "execution_count": 81,
   "id": "c34548e0",
   "metadata": {},
   "outputs": [
    {
     "name": "stdout",
     "output_type": "stream",
     "text": [
      "30\n"
     ]
    }
   ],
   "source": [
    "a = 10\n",
    "b = 20\n",
    "\n",
    "print(a+b)"
   ]
  },
  {
   "cell_type": "code",
   "execution_count": 82,
   "id": "a9ac8a04",
   "metadata": {},
   "outputs": [
    {
     "name": "stdout",
     "output_type": "stream",
     "text": [
      "60\n"
     ]
    }
   ],
   "source": [
    "_num = 30\n",
    "print( _num*2)"
   ]
  },
  {
   "cell_type": "code",
   "execution_count": 1,
   "id": "bc20c521",
   "metadata": {},
   "outputs": [
    {
     "name": "stdout",
     "output_type": "stream",
     "text": [
      "50\n",
      "<class 'int'>\n"
     ]
    }
   ],
   "source": [
    "num = 50\n",
    "print(num)\n",
    "print(type(num))"
   ]
  },
  {
   "cell_type": "code",
   "execution_count": 84,
   "id": "5f55be87",
   "metadata": {},
   "outputs": [
    {
     "name": "stdout",
     "output_type": "stream",
     "text": [
      "20.5\n",
      "<class 'float'>\n"
     ]
    }
   ],
   "source": [
    "num_2 = 20.5\n",
    "print(num_2)\n",
    "print(type(num_2))"
   ]
  },
  {
   "cell_type": "code",
   "execution_count": 85,
   "id": "f237915e",
   "metadata": {},
   "outputs": [
    {
     "name": "stdout",
     "output_type": "stream",
     "text": [
      "<class 'complex'>\n"
     ]
    }
   ],
   "source": [
    "a = 10 + 20j\n",
    "\n",
    "print(type(a))"
   ]
  },
  {
   "cell_type": "code",
   "execution_count": 86,
   "id": "c81439ef",
   "metadata": {},
   "outputs": [
    {
     "name": "stdout",
     "output_type": "stream",
     "text": [
      "10500000000000.0\n",
      "<class 'float'>\n"
     ]
    }
   ],
   "source": [
    "num_3 = 10.5e12\n",
    "print(num_3)\n",
    "print(type(num_3))"
   ]
  },
  {
   "cell_type": "code",
   "execution_count": 87,
   "id": "3d2d2ca0",
   "metadata": {},
   "outputs": [
    {
     "name": "stdout",
     "output_type": "stream",
     "text": [
      "[10, 5, 'jhon', 6.2, True]\n",
      "<class 'list'>\n"
     ]
    }
   ],
   "source": [
    "my_list = [10,5,\"jhon\",6.2,True]\n",
    "print(my_list)\n",
    "print(type(my_list))"
   ]
  },
  {
   "cell_type": "code",
   "execution_count": 88,
   "id": "3208030b",
   "metadata": {},
   "outputs": [
    {
     "name": "stdout",
     "output_type": "stream",
     "text": [
      "10\n",
      "5\n"
     ]
    }
   ],
   "source": [
    "print(my_list[0])\n",
    "print(my_list[1])"
   ]
  },
  {
   "cell_type": "code",
   "execution_count": 89,
   "id": "44df7dc6",
   "metadata": {},
   "outputs": [
    {
     "name": "stdout",
     "output_type": "stream",
     "text": [
      "True\n"
     ]
    }
   ],
   "source": [
    "print(my_list[-1])"
   ]
  },
  {
   "cell_type": "code",
   "execution_count": 90,
   "id": "45a8af66",
   "metadata": {},
   "outputs": [
    {
     "name": "stdout",
     "output_type": "stream",
     "text": [
      "[5, 'jhon', 6.2]\n"
     ]
    }
   ],
   "source": [
    "print(my_list[1:4])  # Slicing the list from index 1 to 3"
   ]
  },
  {
   "cell_type": "code",
   "execution_count": 91,
   "id": "e5e6a711",
   "metadata": {},
   "outputs": [
    {
     "name": "stdout",
     "output_type": "stream",
     "text": [
      "[10, 5, 'jhon']\n"
     ]
    }
   ],
   "source": [
    "print(my_list[:3])  # Slicing the list from index 1 to 3"
   ]
  },
  {
   "cell_type": "code",
   "execution_count": 92,
   "id": "6c91be08",
   "metadata": {},
   "outputs": [
    {
     "name": "stdout",
     "output_type": "stream",
     "text": [
      "['jhon', 6.2, True]\n"
     ]
    }
   ],
   "source": [
    "print(my_list[2:])  # Slicing the list from index 1 to 3"
   ]
  },
  {
   "cell_type": "code",
   "execution_count": 93,
   "id": "785ddfe7",
   "metadata": {},
   "outputs": [
    {
     "name": "stdout",
     "output_type": "stream",
     "text": [
      "[1, 2, 4.5, 'hello', 'hello', 2]\n"
     ]
    }
   ],
   "source": [
    "my_list_2 = [1,2,4.5,\"hello\",\"hello\",2]\n",
    "print(my_list_2)"
   ]
  },
  {
   "cell_type": "code",
   "execution_count": 94,
   "id": "d1e6e44e",
   "metadata": {},
   "outputs": [
    {
     "name": "stdout",
     "output_type": "stream",
     "text": [
      "[10, 5, 'Maleesha', 6.2, True]\n"
     ]
    }
   ],
   "source": [
    "my_list [2] = \"Maleesha\"\n",
    "print(my_list)"
   ]
  },
  {
   "cell_type": "code",
   "execution_count": 95,
   "id": "250523f1",
   "metadata": {},
   "outputs": [
    {
     "name": "stdout",
     "output_type": "stream",
     "text": [
      "[10, 5, 'kate', 9.4, False]\n"
     ]
    }
   ],
   "source": [
    "my_list [2:5] = [\"kate\",9.4,False]\n",
    "print(my_list)"
   ]
  },
  {
   "cell_type": "code",
   "execution_count": 96,
   "id": "f12d3448",
   "metadata": {},
   "outputs": [
    {
     "name": "stdout",
     "output_type": "stream",
     "text": [
      "[10, 5, 'kate', 9.4, False, 'dog']\n"
     ]
    }
   ],
   "source": [
    "my_list.append(\"dog\")\n",
    "print(my_list)"
   ]
  },
  {
   "cell_type": "code",
   "execution_count": 77,
   "id": "e9bb04f7",
   "metadata": {},
   "outputs": [
    {
     "name": "stdout",
     "output_type": "stream",
     "text": [
      "[10, 5, 'cat', 'cat', 'kate', 9.4, False, 'dog']\n"
     ]
    }
   ],
   "source": [
    "my_list.insert(2, \"cat\")\n",
    "print(my_list)"
   ]
  },
  {
   "cell_type": "code",
   "execution_count": 99,
   "id": "2d9d52d8",
   "metadata": {},
   "outputs": [
    {
     "name": "stdout",
     "output_type": "stream",
     "text": [
      "['first', 10, 5, 'kate', 9.4, False, 'dog']\n"
     ]
    }
   ],
   "source": [
    "my_list.insert(0, \"first\")\n",
    "print(my_list)"
   ]
  },
  {
   "cell_type": "code",
   "execution_count": 100,
   "id": "50305da4",
   "metadata": {},
   "outputs": [
    {
     "name": "stdout",
     "output_type": "stream",
     "text": [
      "['first', 10, 5, 'kate', 9.4, False, 'dog', 1, 2, 4.5, 'hello', 'hello', 2]\n"
     ]
    }
   ],
   "source": [
    "my_list.extend(my_list_2)\n",
    "print(my_list)"
   ]
  },
  {
   "cell_type": "code",
   "execution_count": 101,
   "id": "ee867001",
   "metadata": {},
   "outputs": [
    {
     "name": "stdout",
     "output_type": "stream",
     "text": [
      "['first', 10, 5, 'kate', 9.4, False, 1, 2, 4.5, 'hello', 'hello', 2]\n"
     ]
    }
   ],
   "source": [
    "my_list.remove(\"dog\")\n",
    "print(my_list)"
   ]
  },
  {
   "cell_type": "code",
   "execution_count": 102,
   "id": "bfa01943",
   "metadata": {},
   "outputs": [
    {
     "name": "stdout",
     "output_type": "stream",
     "text": [
      "['first', 10, 'kate', 9.4, False, 1, 2, 4.5, 'hello', 'hello', 2]\n"
     ]
    }
   ],
   "source": [
    "my_list.pop(2)\n",
    "print(my_list)"
   ]
  },
  {
   "cell_type": "code",
   "execution_count": 103,
   "id": "42c64922",
   "metadata": {},
   "outputs": [
    {
     "name": "stdout",
     "output_type": "stream",
     "text": [
      "['Farah', 'Binu', 'Ishan', 'Chamara', 'Dilani']\n"
     ]
    }
   ],
   "source": [
    "students = [\"Amal\",\"Binu\",\"Chamara\"]\n",
    "students.append(\"Dilani\")\n",
    "students.insert (2, \"Ishan\")\n",
    "students.remove(\"Amal\")\n",
    "students.insert(0, \"Farah\")\n",
    "print(students)"
   ]
  },
  {
   "cell_type": "code",
   "execution_count": 104,
   "id": "a30242e9",
   "metadata": {},
   "outputs": [
    {
     "name": "stdout",
     "output_type": "stream",
     "text": [
      "5\n"
     ]
    }
   ],
   "source": [
    "print(len(students))  # Length of the list\n"
   ]
  },
  {
   "cell_type": "code",
   "execution_count": 106,
   "id": "dfc34558",
   "metadata": {},
   "outputs": [
    {
     "name": "stdout",
     "output_type": "stream",
     "text": [
      "['Farah', 'Chamara', 'Dilani']\n"
     ]
    }
   ],
   "source": [
    "del students[1]  # Deleting the second element\n",
    "print(students)"
   ]
  },
  {
   "cell_type": "code",
   "execution_count": 110,
   "id": "fb5f99f1",
   "metadata": {},
   "outputs": [
    {
     "ename": "NameError",
     "evalue": "name 'my_list' is not defined",
     "output_type": "error",
     "traceback": [
      "\u001b[31m---------------------------------------------------------------------------\u001b[39m",
      "\u001b[31mNameError\u001b[39m                                 Traceback (most recent call last)",
      "\u001b[36mCell\u001b[39m\u001b[36m \u001b[39m\u001b[32mIn[110]\u001b[39m\u001b[32m, line 3\u001b[39m\n\u001b[32m      1\u001b[39m my_list = [\u001b[32m10\u001b[39m, \u001b[32m20\u001b[39m, \u001b[32m30\u001b[39m, \u001b[32m40\u001b[39m, \u001b[32m50\u001b[39m]\n\u001b[32m      2\u001b[39m \u001b[38;5;28;01mdel\u001b[39;00m my_list\n\u001b[32m----> \u001b[39m\u001b[32m3\u001b[39m \u001b[38;5;28mprint\u001b[39m(\u001b[38;5;28mlen\u001b[39m (\u001b[43mmy_list\u001b[49m))  \u001b[38;5;66;03m# This will raise an error since my_list is deleted\u001b[39;00m\n",
      "\u001b[31mNameError\u001b[39m: name 'my_list' is not defined"
     ]
    }
   ],
   "source": [
    "my_list = [10, 20, 30, 40, 50]\n",
    "del my_list\n",
    "print(len (my_list))  # This will raise an error since my_list is deleted"
   ]
  },
  {
   "cell_type": "code",
   "execution_count": 113,
   "id": "717055a1",
   "metadata": {},
   "outputs": [
    {
     "name": "stdout",
     "output_type": "stream",
     "text": [
      "[]\n",
      "0\n"
     ]
    }
   ],
   "source": [
    "my_list = [10, 20, 30, 40, 50]\n",
    "my_list.clear()  # This will clear the list but not delete it\n",
    "print(my_list)  # This will print an empty list\n",
    "print(len(my_list))  # This will print 0 since the list is empty"
   ]
  },
  {
   "cell_type": "code",
   "execution_count": 115,
   "id": "c3974cee",
   "metadata": {},
   "outputs": [
    {
     "name": "stdout",
     "output_type": "stream",
     "text": [
      "['Date', 'apple', 'banana', 'cherry']\n"
     ]
    }
   ],
   "source": [
    "my_list = [\"banana\", \"apple\", \"cherry\", \"Date\"]\n",
    "my_list.sort()  # Sorts the list in ascending order\n",
    "print(my_list)  # This will print the sorted list"
   ]
  },
  {
   "cell_type": "code",
   "execution_count": 78,
   "id": "67d96376",
   "metadata": {},
   "outputs": [
    {
     "name": "stdout",
     "output_type": "stream",
     "text": [
      "7 <class 'int'>\n",
      "7.0 <class 'float'>\n"
     ]
    }
   ],
   "source": [
    "x = 7\n",
    "a = float(x)\n",
    "print(x, type(x))\n",
    "print(a, type(a))"
   ]
  },
  {
   "cell_type": "code",
   "execution_count": 79,
   "id": "e126218a",
   "metadata": {},
   "outputs": [
    {
     "name": "stdout",
     "output_type": "stream",
     "text": [
      "20.8 <class 'float'>\n",
      "20 <class 'int'>\n"
     ]
    }
   ],
   "source": [
    "y = 20.8\n",
    "b = int(y)\n",
    "print(y, type(y))\n",
    "print(b, type(b))"
   ]
  },
  {
   "cell_type": "code",
   "execution_count": 80,
   "id": "b3493680",
   "metadata": {},
   "outputs": [
    {
     "name": "stdout",
     "output_type": "stream",
     "text": [
      "7200\n"
     ]
    }
   ],
   "source": [
    "num_1 = 80\n",
    "num_2 =90\n",
    "\n",
    "print(num_1*num_2)"
   ]
  },
  {
   "cell_type": "code",
   "execution_count": null,
   "id": "9c98eafe",
   "metadata": {},
   "outputs": [
    {
     "name": "stdout",
     "output_type": "stream",
     "text": [
      "[50, 40, 30, 20, 15, 14, 13, 12, 11, 10, 10, 9, 8, 7, 6, 5, 3, 2, 2, 1]\n"
     ]
    }
   ],
   "source": [
    "num_list = [10, 20, 30, 40, 50,2,1,3,5,6,2,7,8,9,10,11,12,13,14,15]\n",
    "num_list.sort(reverse=True)\n",
    "print(num_list)"
   ]
  },
  {
   "cell_type": "code",
   "execution_count": 1,
   "id": "e8deeec7",
   "metadata": {},
   "outputs": [
    {
     "name": "stdout",
     "output_type": "stream",
     "text": [
      "[10, 20, 30, 40, 50]\n",
      "[10, 20, 30, 40, 50]\n",
      "[10, 20, 22, 40, 50]\n",
      "[20, 22, 40, 50]\n",
      "[10, 20, 30, 40, 50]\n"
     ]
    }
   ],
   "source": [
    "my_list_3 = [10, 20, 30, 40, 50]\n",
    "my_list_4 =my_list_3.copy() \n",
    "print(my_list_3)\n",
    "print(my_list_4)\n",
    "my_list_3 [2] = 22\n",
    "print(my_list_3)\n",
    "print(my_list_3[1:7])  # This will still show the original values since my_list_4 is a copy\n",
    "print(my_list_4)"
   ]
  },
  {
   "cell_type": "code",
   "execution_count": 2,
   "id": "3a2f5bc5",
   "metadata": {},
   "outputs": [
    {
     "name": "stdout",
     "output_type": "stream",
     "text": [
      "[30, 40, 50]\n"
     ]
    }
   ],
   "source": [
    "my_list_8 = [10, 20, 30, 40, 50]\n",
    "print(my_list_8[2:10])"
   ]
  },
  {
   "cell_type": "code",
   "execution_count": 120,
   "id": "3a6df033",
   "metadata": {},
   "outputs": [
    {
     "name": "stdout",
     "output_type": "stream",
     "text": [
      "[50, 40, 30, 20, 10]\n"
     ]
    }
   ],
   "source": [
    "my_list_6 = [10, 20, 30, 40, 50]\n",
    "my_list_6.reverse()\n",
    "print(my_list_6)  # This will print the list in reverse order"
   ]
  },
  {
   "cell_type": "code",
   "execution_count": 121,
   "id": "ea19d0d8",
   "metadata": {},
   "outputs": [
    {
     "name": "stdout",
     "output_type": "stream",
     "text": [
      "[50, 40, 30, 20, 10, 10, 20, 30, 40, 50]\n"
     ]
    }
   ],
   "source": [
    "new_list = my_list_6+my_list_4\n",
    "print(new_list)  # This will print the concatenated list"
   ]
  }
 ],
 "metadata": {
  "kernelspec": {
   "display_name": "Python 3",
   "language": "python",
   "name": "python3"
  },
  "language_info": {
   "codemirror_mode": {
    "name": "ipython",
    "version": 3
   },
   "file_extension": ".py",
   "mimetype": "text/x-python",
   "name": "python",
   "nbconvert_exporter": "python",
   "pygments_lexer": "ipython3",
   "version": "3.13.4"
  }
 },
 "nbformat": 4,
 "nbformat_minor": 5
}
