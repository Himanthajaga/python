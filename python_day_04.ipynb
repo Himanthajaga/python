{
 "cells": [
  {
   "cell_type": "code",
   "execution_count": null,
   "id": "de82d744",
   "metadata": {},
   "outputs": [
    {
     "name": "stdout",
     "output_type": "stream",
     "text": [
      "7\n"
     ]
    }
   ],
   "source": [
    "# Python Functions\n",
    "def add_numbers(a,b):\n",
    "    return a+b\n",
    "print(add_numbers(3,4))"
   ]
  },
  {
   "cell_type": "code",
   "execution_count": 24,
   "id": "17c29fad",
   "metadata": {},
   "outputs": [
    {
     "name": "stdout",
     "output_type": "stream",
     "text": [
      "5\n"
     ]
    }
   ],
   "source": [
    "# write a function \"count even numbers\"that takes a list of integers &returns the count of even numbers\n",
    "def count_even_numbers(numbers):\n",
    "    count = 0\n",
    "    for number in numbers:\n",
    "        if number % 2 == 0:\n",
    "            count += 1\n",
    "    return count\n",
    "print(count_even_numbers([1, 2, 3, 4, 5, 6, 7, 8, 9, 10]))"
   ]
  },
  {
   "cell_type": "code",
   "execution_count": 25,
   "id": "a52879c2",
   "metadata": {},
   "outputs": [
    {
     "name": "stdout",
     "output_type": "stream",
     "text": [
      "9\n"
     ]
    }
   ],
   "source": [
    "# write a function \"find max(lst)\"that takes a list of numbers & returns the maximum value (without using max())\n",
    "def find_max(lst):\n",
    "    max_value = lst[0]\n",
    "    for number in lst:\n",
    "        if number > max_value:\n",
    "            max_value = number\n",
    "    return max_value\n",
    "lst = [3, 1, 4, 1, 5, 9, 2, 6, 5]\n",
    "print(find_max(lst))"
   ]
  },
  {
   "cell_type": "code",
   "execution_count": 23,
   "id": "d39b8de5",
   "metadata": {},
   "outputs": [
    {
     "name": "stdout",
     "output_type": "stream",
     "text": [
      "[1, 2, 3, 4, 5]\n"
     ]
    }
   ],
   "source": [
    "# write a function named \"remove_duplicates(lst)\"that returns a new list with duplicates removed.(preswerve order)\n",
    "def remove_duplicates(lst):\n",
    "    new_list = []\n",
    "    for item in lst:\n",
    "        if item not in new_list:\n",
    "            new_list.append(item)\n",
    "    return new_list\n",
    "lst = [1, 2, 2, 3, 4, 4, 5]\n",
    "print(remove_duplicates(lst))"
   ]
  }
 ],
 "metadata": {
  "kernelspec": {
   "display_name": "Python 3",
   "language": "python",
   "name": "python3"
  },
  "language_info": {
   "codemirror_mode": {
    "name": "ipython",
    "version": 3
   },
   "file_extension": ".py",
   "mimetype": "text/x-python",
   "name": "python",
   "nbconvert_exporter": "python",
   "pygments_lexer": "ipython3",
   "version": "3.13.4"
  }
 },
 "nbformat": 4,
 "nbformat_minor": 5
}
