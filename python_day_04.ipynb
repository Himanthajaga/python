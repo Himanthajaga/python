{
 "cells": [
  {
   "cell_type": "code",
   "execution_count": null,
   "id": "de82d744",
   "metadata": {},
   "outputs": [
    {
     "name": "stdout",
     "output_type": "stream",
     "text": [
      "7\n"
     ]
    }
   ],
   "source": [
    "# Python Functions\n",
    "def add_numbers(a,b):\n",
    "    return a+b\n",
    "print(add_numbers(3,4))"
   ]
  },
  {
   "cell_type": "code",
   "execution_count": 24,
   "id": "17c29fad",
   "metadata": {},
   "outputs": [
    {
     "name": "stdout",
     "output_type": "stream",
     "text": [
      "5\n"
     ]
    }
   ],
   "source": [
    "# write a function \"count even numbers\"that takes a list of integers &returns the count of even numbers\n",
    "def count_even_numbers(numbers):\n",
    "    count = 0\n",
    "    for number in numbers:\n",
    "        if number % 2 == 0:\n",
    "            count += 1\n",
    "    return count\n",
    "print(count_even_numbers([1, 2, 3, 4, 5, 6, 7, 8, 9, 10]))"
   ]
  },
  {
   "cell_type": "code",
   "execution_count": 25,
   "id": "a52879c2",
   "metadata": {},
   "outputs": [
    {
     "name": "stdout",
     "output_type": "stream",
     "text": [
      "9\n"
     ]
    }
   ],
   "source": [
    "# write a function \"find max(lst)\"that takes a list of numbers & returns the maximum value (without using max())\n",
    "def find_max(lst):\n",
    "    max_value = lst[0]\n",
    "    for number in lst:\n",
    "        if number > max_value:\n",
    "            max_value = number\n",
    "    return max_value\n",
    "lst = [3, 1, 4, 1, 5, 9, 2, 6, 5]\n",
    "print(find_max(lst))"
   ]
  },
  {
   "cell_type": "code",
   "execution_count": 41,
   "id": "d39b8de5",
   "metadata": {},
   "outputs": [
    {
     "name": "stdout",
     "output_type": "stream",
     "text": [
      "[1, 2, 3, 4, 5]\n"
     ]
    }
   ],
   "source": [
    "# write a function named \"remove_duplicates(lst)\"that returns a new list with duplicates removed.(preswerve order)\n",
    "def remove_duplicates(lst):\n",
    "    new_list = []\n",
    "    for item in lst:\n",
    "        if item not in new_list:\n",
    "            new_list.append(item)\n",
    "    return new_list\n",
    "lst = [1, 2, 2, 3, 4, 4, 5]\n",
    "print(remove_duplicates(lst))"
   ]
  },
  {
   "cell_type": "code",
   "execution_count": 42,
   "id": "03614d36",
   "metadata": {},
   "outputs": [
    {
     "name": "stdout",
     "output_type": "stream",
     "text": [
      "11\n",
      "7\n"
     ]
    }
   ],
   "source": [
    "# Deafult arguments in functions\n",
    "def add_numbers(a,b=8):\n",
    "    return a+b\n",
    "print(add_numbers(3))  # Using default value for b\n",
    "print(add_numbers(3, 4))  # Using provided value for b"
   ]
  },
  {
   "cell_type": "code",
   "execution_count": null,
   "id": "8ea6bbac",
   "metadata": {},
   "outputs": [
    {
     "name": "stdout",
     "output_type": "stream",
     "text": [
      "27\n",
      "9\n"
     ]
    }
   ],
   "source": [
    "# write a function that calculates &returns the value of a number raised to a certain power.The function should accept two arguments: te number and the exponent.It the exponent is not provided,it should calculate the square of the number\n",
    "def power(number,exponent = 2):\n",
    "    return number ** exponent\n",
    "print(power(3,3))\n",
    "print(power(3))\n"
   ]
  },
  {
   "cell_type": "code",
   "execution_count": 40,
   "id": "dfc432c6",
   "metadata": {},
   "outputs": [
    {
     "name": "stdout",
     "output_type": "stream",
     "text": [
      "120\n"
     ]
    }
   ],
   "source": [
    "# write a function factorial(n) that returns the factorial of a number n\n",
    "def factorial(n):\n",
    "    result = 1\n",
    "    if n == 0:\n",
    "        return result\n",
    "    for i in range(1, n + 1):\n",
    "        result *= i\n",
    "    return result\n",
    "print(factorial(5))  \n"
   ]
  },
  {
   "cell_type": "code",
   "execution_count": 48,
   "id": "0fdcc976",
   "metadata": {},
   "outputs": [
    {
     "name": "stdout",
     "output_type": "stream",
     "text": [
      "a: 10\n",
      "b: 20\n",
      "a: 40\n",
      "b: 30\n",
      "a: 50\n",
      "b: 60\n"
     ]
    }
   ],
   "source": [
    "def display_numbers(a,b):\n",
    "    print(\"a:\", a)\n",
    "    print(\"b:\", b)\n",
    "\n",
    "display_numbers(a=10,b=20) \n",
    "display_numbers(b=30,a=40)  # Keyword arguments allow you to specify the order\n",
    "display_numbers(50, 60)  # Positional arguments work as well\n",
    "    "
   ]
  },
  {
   "cell_type": "code",
   "execution_count": 60,
   "id": "e32f23e1",
   "metadata": {},
   "outputs": [
    {
     "name": "stdout",
     "output_type": "stream",
     "text": [
      "45000.0\n",
      "54000.0\n",
      "45000.0\n",
      "54000.0\n"
     ]
    }
   ],
   "source": [
    "# write a function that calculates an employee's net salary.The function should accept the based salary,bonus(default to 0)and tax rate (default to 10%) The net salary is calculated by adding the bonus to the based salary & substracting the the tax.Demostrate different ways of calling this function using positional ane keyword arguments\n",
    "def calculate_net_salary(base_salary, bonus=0, tax_rate = 0.1):\n",
    "    net_income = base_salary + bonus\n",
    "    net_salary = net_income * (0.9)\n",
    "    return net_salary\n",
    "print(calculate_net_salary(50000))\n",
    "print(calculate_net_salary(50000,10000))\n",
    "print(calculate_net_salary(50000, tax_rate=0.15))\n",
    "print(calculate_net_salary(base_salary=50000, bonus=10000, tax_rate=0.15))"
   ]
  },
  {
   "cell_type": "code",
   "execution_count": 62,
   "id": "7d8bb3b7",
   "metadata": {},
   "outputs": [
    {
     "name": "stdout",
     "output_type": "stream",
     "text": [
      "(1, 2, 3, 4, 5)\n",
      "<class 'tuple'>\n",
      "1\n",
      "2\n",
      "3\n",
      "4\n",
      "5\n"
     ]
    }
   ],
   "source": [
    "# Arbitrary arguments in functions\n",
    "def arbitrary_positional_args(*args):\n",
    "    print(args)\n",
    "    print(type(args))\n",
    "    for arg in args:\n",
    "        print(arg)\n",
    "\n",
    "arbitrary_positional_args(1, 2, 3, 4, 5)  # Passing multiple positional arguments"
   ]
  },
  {
   "cell_type": "code",
   "execution_count": null,
   "id": "e3b5e5eb",
   "metadata": {},
   "outputs": [
    {
     "name": "stdout",
     "output_type": "stream",
     "text": [
      "24\n",
      "1\n"
     ]
    }
   ],
   "source": [
    "# write a function multipli all that accepts any number of numbers & returns their products.If no numbers are provided return 1.\n",
    "def multiply_all(*args):\n",
    "    product = 1\n",
    "    for num in args:\n",
    "        product*= num\n",
    "    return product\n",
    "print(multiply_all(2, 3, 4)) \n",
    "print(multiply_all())  "
   ]
  },
  {
   "cell_type": "code",
   "execution_count": 68,
   "id": "434d0383",
   "metadata": {},
   "outputs": [
    {
     "name": "stdout",
     "output_type": "stream",
     "text": [
      "name\n",
      "age\n",
      "city\n"
     ]
    }
   ],
   "source": [
    "dict = {\n",
    "    \"name\": \"Alice\",\n",
    "    \"age\": 30,\n",
    "    \"city\": \"New York\"\n",
    "}\n",
    "for key in dict.keys():\n",
    "    print(key)"
   ]
  },
  {
   "cell_type": "code",
   "execution_count": 69,
   "id": "6f725e23",
   "metadata": {},
   "outputs": [
    {
     "name": "stdout",
     "output_type": "stream",
     "text": [
      "Alice\n",
      "30\n",
      "New York\n"
     ]
    }
   ],
   "source": [
    "for value in dict.values():\n",
    "    print(value)"
   ]
  },
  {
   "cell_type": "code",
   "execution_count": 70,
   "id": "d11b9b6d",
   "metadata": {},
   "outputs": [
    {
     "name": "stdout",
     "output_type": "stream",
     "text": [
      "key: name value: Alice\n",
      "key: age value: 30\n",
      "key: city value: New York\n"
     ]
    }
   ],
   "source": [
    "for key,value in dict.items():\n",
    "    print(\"key:\", key, \"value:\", value)"
   ]
  },
  {
   "cell_type": "code",
   "execution_count": 76,
   "id": "164ec038",
   "metadata": {},
   "outputs": [
    {
     "name": "stdout",
     "output_type": "stream",
     "text": [
      "{'name': 'Alice', 'age': 30, 'city': 'New York'}\n",
      "<class 'dict'>\n",
      "name : Alice\n",
      "age : 30\n",
      "city : New York\n"
     ]
    }
   ],
   "source": [
    "# Arbitrary keyword arguements(**kwargs)\n",
    "def arbitrary_keyword_args(**kwargs):\n",
    "    print(kwargs)\n",
    "    print(type(kwargs))\n",
    "    for key, value in kwargs.items():\n",
    "        print(key, \":\", value)\n",
    "arbitrary_keyword_args(name=\"Alice\", age=30, city=\"New York\")  # Passing multiple keyword arguments"
   ]
  },
  {
   "cell_type": "code",
   "execution_count": 80,
   "id": "a6d3b3cd",
   "metadata": {},
   "outputs": [
    {
     "name": "stdout",
     "output_type": "stream",
     "text": [
      "SS01 : Alice\n",
      "SS02 : Bob\n",
      "SS03 : Charlie\n",
      "SS04 : David\n",
      "SS05 : Eve\n"
     ]
    }
   ],
   "source": [
    "def add_students(**kwargs):\n",
    "    stu_list = {}\n",
    "    for key,value in kwargs.items():\n",
    "        stu_list[key] = value\n",
    "    return stu_list\n",
    "       \n",
    "def display_students(stu_list):\n",
    "    for key, value in stu_list.items():\n",
    "        print(key, \":\", value)\n",
    "\n",
    "stu_lists = add_students(SS01=\"Alice\", SS02=\"Bob\", SS03=\"Charlie\", SS04=\"David\", SS05=\"Eve\")\n",
    "display_students(stu_lists)"
   ]
  },
  {
   "cell_type": "code",
   "execution_count": 82,
   "id": "6ad6d8b5",
   "metadata": {},
   "outputs": [
    {
     "name": "stdout",
     "output_type": "stream",
     "text": [
      "[36, 25, 9, 4, 81]\n"
     ]
    }
   ],
   "source": [
    "# python built-in functions\n",
    "def find_square(x):\n",
    "    return x ** 2\n",
    "\n",
    "my_list = [6, 5, 3, 2, 9]\n",
    "square_list = map(find_square,my_list)\n",
    "print(list(square_list))"
   ]
  },
  {
   "cell_type": "code",
   "execution_count": 89,
   "id": "a1a2ebff",
   "metadata": {},
   "outputs": [
    {
     "name": "stdout",
     "output_type": "stream",
     "text": [
      "[32.0, 68.0, 98.6, 212.0, 14.0]\n"
     ]
    }
   ],
   "source": [
    "def convert(celsius):\n",
    "    fahrenheit = celsius * 9/5 + 32\n",
    "    return fahrenheit\n",
    "\n",
    "def convert_to_fahrenheit(celsius):\n",
    "    fahrenheit_list = list(map(convert,celsius))\n",
    "    return fahrenheit_list\n",
    "celsius_list = [0, 20, 37, 100,-10]\n",
    "print(convert_to_fahrenheit(celsius_list))\n"
   ]
  },
  {
   "cell_type": "code",
   "execution_count": 90,
   "id": "64f893d5",
   "metadata": {},
   "outputs": [
    {
     "name": "stdout",
     "output_type": "stream",
     "text": [
      "[2, 4, 6, 8, 10]\n"
     ]
    }
   ],
   "source": [
    "# filter function\n",
    "list1 = [1, 2, 3, 4, 5, 6, 7, 8, 9, 10]\n",
    "def is_even(num):\n",
    "    return num % 2 == 0\n",
    "even_numbers = list(filter(is_even, list1))\n",
    "print(even_numbers)"
   ]
  },
  {
   "cell_type": "code",
   "execution_count": 91,
   "id": "b9eb0e5e",
   "metadata": {},
   "outputs": [
    {
     "name": "stdout",
     "output_type": "stream",
     "text": [
      "8\n"
     ]
    }
   ],
   "source": [
    "# lambda functions\n",
    "add = lambda x, y: x + y\n",
    "result = add(5, 3)\n",
    "print(result)"
   ]
  },
  {
   "cell_type": "code",
   "execution_count": 92,
   "id": "d5c69bf9",
   "metadata": {},
   "outputs": [
    {
     "name": "stdout",
     "output_type": "stream",
     "text": [
      "15\n"
     ]
    }
   ],
   "source": [
    "print((lambda x, y: x * y)(5, 3))  # Using lambda function directly"
   ]
  },
  {
   "cell_type": "code",
   "execution_count": 105,
   "id": "4cb2ef81",
   "metadata": {},
   "outputs": [
    {
     "name": "stdout",
     "output_type": "stream",
     "text": [
      "[2, 4, 6, 8, 10]\n"
     ]
    }
   ],
   "source": [
    "# given list of integers,use map() with a lambda function to create a new list where each number is double\n",
    "numbers = [1, 2, 3, 4, 5]\n",
    "print(list(map(lambda x: x * 2, numbers)))\n"
   ]
  },
  {
   "cell_type": "code",
   "execution_count": 109,
   "id": "f93a0ada",
   "metadata": {},
   "outputs": [
    {
     "name": "stdout",
     "output_type": "stream",
     "text": [
      "[2, 4, 6, 8, 10]\n"
     ]
    }
   ],
   "source": [
    "# write a pyton program that use the filter() function with a lambda function to remo ve all odd numbers from the list\n",
    "numbers = [1, 2, 3, 4, 5, 6, 7, 8, 9, 10]\n",
    "even_numbers = filter(lambda x: x % 2 == 0 ,numbers)\n",
    "print(list(even_numbers))"
   ]
  },
  {
   "cell_type": "code",
   "execution_count": 111,
   "id": "1ae89e4e",
   "metadata": {},
   "outputs": [
    {
     "name": "stdout",
     "output_type": "stream",
     "text": [
      "20\n",
      "30\n",
      "1\n"
     ]
    }
   ],
   "source": [
    "# write a python program with a lambda function to decide the largest between two numbers\n",
    "Largest = lambda x,y : x if x > y else y\n",
    "print(Largest(10, 20))\n",
    "print(Largest(30, 20))\n",
    "print(Largest(-15, 1))"
   ]
  }
 ],
 "metadata": {
  "kernelspec": {
   "display_name": "Python 3",
   "language": "python",
   "name": "python3"
  },
  "language_info": {
   "codemirror_mode": {
    "name": "ipython",
    "version": 3
   },
   "file_extension": ".py",
   "mimetype": "text/x-python",
   "name": "python",
   "nbconvert_exporter": "python",
   "pygments_lexer": "ipython3",
   "version": "3.13.4"
  }
 },
 "nbformat": 4,
 "nbformat_minor": 5
}
