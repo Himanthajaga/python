{
 "cells": [
  {
   "cell_type": "code",
   "execution_count": 1,
   "id": "b3ed1dba",
   "metadata": {},
   "outputs": [
    {
     "name": "stdout",
     "output_type": "stream",
     "text": [
      "(True, 'cricket', 'football')\n",
      "('tennis', 30, True)\n",
      "('cricket', 'football')\n",
      "(30, True, 'cricket', 'football')\n"
     ]
    }
   ],
   "source": [
    "my_tuple = (\"tennis\",30,True,\"cricket\",\"football\")\n",
    "print(my_tuple[2:5])\n",
    "print(my_tuple[:3])\n",
    "print(my_tuple[3:])\n",
    "print(my_tuple[1:8])"
   ]
  },
  {
   "cell_type": "code",
   "execution_count": 1,
   "id": "8f8c24cc",
   "metadata": {},
   "outputs": [
    {
     "ename": "NameError",
     "evalue": "name 'this_dict' is not defined",
     "output_type": "error",
     "traceback": [
      "\u001b[31m---------------------------------------------------------------------------\u001b[39m",
      "\u001b[31mNameError\u001b[39m                                 Traceback (most recent call last)",
      "\u001b[36mCell\u001b[39m\u001b[36m \u001b[39m\u001b[32mIn[1]\u001b[39m\u001b[32m, line 1\u001b[39m\n\u001b[32m----> \u001b[39m\u001b[32m1\u001b[39m \u001b[38;5;28mprint\u001b[39m(\u001b[38;5;28mlen\u001b[39m(\u001b[43mthis_dict\u001b[49m))\n",
      "\u001b[31mNameError\u001b[39m: name 'this_dict' is not defined"
     ]
    }
   ],
   "source": [
    "print(len(this_dict))"
   ]
  },
  {
   "cell_type": "code",
   "execution_count": null,
   "id": "f107dd10",
   "metadata": {},
   "outputs": [
    {
     "name": "stdout",
     "output_type": "stream",
     "text": [
      "['apple', 'banana', 'cherry']\n",
      "<class 'list'>\n"
     ]
    }
   ],
   "source": [
    "fruits = (\"apple\", \"banana\", \"cherry\")\n",
    "x = list(fruits)\n",
    "print(x)\n",
    "print(type(x))"
   ]
  },
  {
   "cell_type": "code",
   "execution_count": 7,
   "id": "f7ec4dbc",
   "metadata": {},
   "outputs": [
    {
     "name": "stdout",
     "output_type": "stream",
     "text": [
      "['apple', 'grapes', 'cherry']\n",
      "('apple', 'grapes', 'cherry')\n"
     ]
    }
   ],
   "source": [
    "x[1] = \"grapes\"\n",
    "print(x)\n",
    "fruits = tuple(x)\n",
    "print(fruits)"
   ]
  },
  {
   "cell_type": "code",
   "execution_count": 13,
   "id": "2caebf51",
   "metadata": {},
   "outputs": [
    {
     "name": "stdout",
     "output_type": "stream",
     "text": [
      "(1, 2, 3)\n",
      "b\n",
      "True\n"
     ]
    }
   ],
   "source": [
    "nested_tuple = ((1,2,3),(\"a,\",\"b\",\"c\"),(True,False))\n",
    "print(nested_tuple[0])\n",
    "print(nested_tuple[1][1])\n",
    "print(nested_tuple[2][0])"
   ]
  },
  {
   "cell_type": "code",
   "execution_count": 23,
   "id": "cf7524b0",
   "metadata": {},
   "outputs": [
    {
     "name": "stdout",
     "output_type": "stream",
     "text": [
      "{True, 'tennis', 'cricket', 30, 'football'}\n",
      "<class 'set'>\n",
      "{True, 'tennis', 'cricket', 'basketball', 30, 'football'}\n"
     ]
    },
    {
     "data": {
      "text/plain": [
       "6"
      ]
     },
     "execution_count": 23,
     "metadata": {},
     "output_type": "execute_result"
    }
   ],
   "source": [
    "set = {\"tennis\",30,True,\"cricket\",\"football\",\"tennis\"}\n",
    "print(set)\n",
    "print(type(set))\n",
    "set.add(\"basketball\")\n",
    "print(set)\n",
    "set.__len__()"
   ]
  },
  {
   "cell_type": "code",
   "execution_count": 24,
   "id": "cba0c1f2",
   "metadata": {},
   "outputs": [
    {
     "name": "stdout",
     "output_type": "stream",
     "text": [
      "{'basketball', 'tennis', 'football', 'hockey', 'cricket'}\n"
     ]
    }
   ],
   "source": [
    "set_01 = {\"tennis\",\"cricket\",\"football\",\"basketball\"}\n",
    "set_01.add(\"hockey\")\n",
    "print(set_01)"
   ]
  },
  {
   "cell_type": "code",
   "execution_count": 27,
   "id": "26799d65",
   "metadata": {},
   "outputs": [
    {
     "name": "stdout",
     "output_type": "stream",
     "text": [
      "{'banana', 'basketball', 'tennis', 'cherry', 'football', 'hockey', 'cricket', 'apple'}\n",
      "<class 'set'>\n",
      "{'banana', 'basketball', 'tennis', 'cherry', 'football', 'hockey', 'cricket', 'apple', 'monday', 'tuesday', 'wednesday'}\n"
     ]
    }
   ],
   "source": [
    "set_02 = {\"apple\",\"banana\",\"cherry\"}\n",
    "set_01.update(set_02)\n",
    "print(set_01)\n",
    "print(type(set_01))\n",
    "list_01 = [\"monday\",\"tuesday\",\"wednesday\"]\n",
    "set_01.update(list_01)\n",
    "print(set_01)"
   ]
  },
  {
   "cell_type": "code",
   "execution_count": 36,
   "id": "1e848e5a",
   "metadata": {},
   "outputs": [
    {
     "ename": "TypeError",
     "evalue": "'set' object is not callable",
     "output_type": "error",
     "traceback": [
      "\u001b[31m---------------------------------------------------------------------------\u001b[39m",
      "\u001b[31mTypeError\u001b[39m                                 Traceback (most recent call last)",
      "\u001b[36mCell\u001b[39m\u001b[36m \u001b[39m\u001b[32mIn[36]\u001b[39m\u001b[32m, line 2\u001b[39m\n\u001b[32m      1\u001b[39m list_04 = [\u001b[32m50\u001b[39m,\u001b[32m60\u001b[39m,\u001b[32m30\u001b[39m,\u001b[32m40\u001b[39m,\u001b[32m50\u001b[39m,\u001b[32m25\u001b[39m,\u001b[32m60\u001b[39m,\u001b[32m30\u001b[39m,\u001b[32m40\u001b[39m]\n\u001b[32m----> \u001b[39m\u001b[32m2\u001b[39m set_04 = \u001b[38;5;28;43mset\u001b[39;49m\u001b[43m(\u001b[49m\u001b[43mlist_04\u001b[49m\u001b[43m)\u001b[49m\n\u001b[32m      3\u001b[39m \u001b[38;5;28mprint\u001b[39m(set_04)\n",
      "\u001b[31mTypeError\u001b[39m: 'set' object is not callable"
     ]
    }
   ],
   "source": [
    "list_04 = [50,60,30,40,50,25,60,30,40]\n",
    "set_04 = set(list_04)\n",
    "print(set_04)"
   ]
  },
  {
   "cell_type": "code",
   "execution_count": 1,
   "id": "ab863e65",
   "metadata": {},
   "outputs": [
    {
     "name": "stdout",
     "output_type": "stream",
     "text": [
      "[40, 50, 25, 60, 30]\n"
     ]
    }
   ],
   "source": [
    "list_01 = [50,60,30,40,50,25,60,30,40]\n",
    "set_x = set(list_01)\n",
    "list_01 = list(set_x)\n",
    "print(list_01)\n",
    "list_01.sort()"
   ]
  },
  {
   "cell_type": "code",
   "execution_count": 2,
   "id": "1cca7625",
   "metadata": {},
   "outputs": [
    {
     "name": "stdout",
     "output_type": "stream",
     "text": [
      "range(1, 7)\n",
      "range(1, 12, 2)\n",
      "range(3, 24, 4)\n",
      "<class 'range'>\n",
      "<class 'range'>\n",
      "<class 'range'>\n",
      "11 23\n"
     ]
    },
    {
     "ename": "IndexError",
     "evalue": "range object index out of range",
     "output_type": "error",
     "traceback": [
      "\u001b[31m---------------------------------------------------------------------------\u001b[39m",
      "\u001b[31mIndexError\u001b[39m                                Traceback (most recent call last)",
      "\u001b[36mCell\u001b[39m\u001b[36m \u001b[39m\u001b[32mIn[2]\u001b[39m\u001b[32m, line 12\u001b[39m\n\u001b[32m     10\u001b[39m \u001b[38;5;28mprint\u001b[39m(\u001b[38;5;28mtype\u001b[39m(z))\n\u001b[32m     11\u001b[39m \u001b[38;5;28mprint\u001b[39m(z[\u001b[32m2\u001b[39m],z[\u001b[32m5\u001b[39m])\n\u001b[32m---> \u001b[39m\u001b[32m12\u001b[39m \u001b[38;5;28mprint\u001b[39m (\u001b[43mz\u001b[49m\u001b[43m[\u001b[49m\u001b[32;43m6\u001b[39;49m\u001b[43m]\u001b[49m)\n",
      "\u001b[31mIndexError\u001b[39m: range object index out of range"
     ]
    }
   ],
   "source": [
    "x=range(1,7,1)\n",
    "y = range(1,12,2)\n",
    "z = range(3,24,4)\n",
    "print(x)\n",
    "print(y)\n",
    "print(z)\n",
    "\n",
    "print(type(x))\n",
    "print(type(y))\n",
    "print(type(z))\n",
    "print(z[2],z[5])\n",
    "print (z[6])"
   ]
  },
  {
   "cell_type": "code",
   "execution_count": 5,
   "id": "3f627735",
   "metadata": {},
   "outputs": [
    {
     "name": "stdout",
     "output_type": "stream",
     "text": [
      "{'name': 'sugar', 'weight': '1Kg', 'price': 130.35}\n",
      "<class 'dict'>\n",
      "sugar\n",
      "1Kg\n",
      "130.35\n",
      "sugar\n",
      "130.35\n"
     ]
    }
   ],
   "source": [
    "this_dict = {\n",
    "    \"name\": \"sugar\",\n",
    "    \"weight\": \"1Kg\",\n",
    "    \"price\": 130.35\n",
    "}\n",
    "print(this_dict)\n",
    "print(type(this_dict))\n",
    "print(this_dict[\"name\"])\n",
    "print(this_dict[\"weight\"])\n",
    "print(this_dict[\"price\"])\n",
    "\n",
    "\n",
    "print(this_dict.get(\"name\"))\n",
    "print(this_dict.get(\"price\"))"
   ]
  },
  {
   "cell_type": "code",
   "execution_count": 3,
   "id": "974bbaa3",
   "metadata": {},
   "outputs": [
    {
     "name": "stdout",
     "output_type": "stream",
     "text": [
      "3\n"
     ]
    }
   ],
   "source": [
    "this_dict = {\n",
    "    \"name\": \"sugar\",\n",
    "    \"weight\": \"1Kg\",\n",
    "    \"price\": 130.35\n",
    "}\n",
    "print(len(this_dict))"
   ]
  },
  {
   "cell_type": "code",
   "execution_count": 5,
   "id": "a7bad9e2",
   "metadata": {},
   "outputs": [
    {
     "name": "stdout",
     "output_type": "stream",
     "text": [
      "{'name': 'sugar', 'weight': '1Kg', 'price': 150.5}\n",
      "150.5\n"
     ]
    }
   ],
   "source": [
    "this_dict[\"price\"] = 150.50\n",
    "print(this_dict)\n",
    "print(this_dict.get(\"price\"))"
   ]
  },
  {
   "cell_type": "code",
   "execution_count": 6,
   "id": "8f2c7ce4",
   "metadata": {},
   "outputs": [
    {
     "name": "stdout",
     "output_type": "stream",
     "text": [
      "{'name': 'sugar', 'weight': '1Kg', 'price': 150.5, 'colour': 'white'}\n"
     ]
    }
   ],
   "source": [
    "this_dict[\"colour\"] = \"white\"\n",
    "print(this_dict)"
   ]
  },
  {
   "cell_type": "code",
   "execution_count": 7,
   "id": "08415976",
   "metadata": {},
   "outputs": [
    {
     "ename": "TypeError",
     "evalue": "update expected at most 1 argument, got 2",
     "output_type": "error",
     "traceback": [
      "\u001b[31m---------------------------------------------------------------------------\u001b[39m",
      "\u001b[31mTypeError\u001b[39m                                 Traceback (most recent call last)",
      "\u001b[36mCell\u001b[39m\u001b[36m \u001b[39m\u001b[32mIn[7]\u001b[39m\u001b[32m, line 6\u001b[39m\n\u001b[32m      1\u001b[39m this_dict = {\n\u001b[32m      2\u001b[39m     \u001b[33m\"\u001b[39m\u001b[33mname\u001b[39m\u001b[33m\"\u001b[39m: \u001b[33m\"\u001b[39m\u001b[33msugar\u001b[39m\u001b[33m\"\u001b[39m,\n\u001b[32m      3\u001b[39m     \u001b[33m\"\u001b[39m\u001b[33mweight\u001b[39m\u001b[33m\"\u001b[39m: \u001b[33m\"\u001b[39m\u001b[33m1Kg\u001b[39m\u001b[33m\"\u001b[39m,\n\u001b[32m      4\u001b[39m     \u001b[33m\"\u001b[39m\u001b[33mprice\u001b[39m\u001b[33m\"\u001b[39m: \u001b[32m130.35\u001b[39m\n\u001b[32m      5\u001b[39m }\n\u001b[32m----> \u001b[39m\u001b[32m6\u001b[39m \u001b[43mthis_dict\u001b[49m\u001b[43m.\u001b[49m\u001b[43mupdate\u001b[49m\u001b[43m(\u001b[49m\u001b[43m{\u001b[49m\u001b[33;43m\"\u001b[39;49m\u001b[33;43mexpiry\u001b[39;49m\u001b[33;43m\"\u001b[39;49m\u001b[43m:\u001b[49m\u001b[43m \u001b[49m\u001b[33;43m\"\u001b[39;49m\u001b[33;43m2025-12-31\u001b[39;49m\u001b[33;43m\"\u001b[39;49m\u001b[43m}\u001b[49m\u001b[43m,\u001b[49m\u001b[43m{\u001b[49m\u001b[33;43m\"\u001b[39;49m\u001b[33;43mprice\u001b[39;49m\u001b[33;43m\"\u001b[39;49m\u001b[43m:\u001b[49m\u001b[43m \u001b[49m\u001b[33;43m\"\u001b[39;49m\u001b[33;43m160.50\u001b[39;49m\u001b[33;43m\"\u001b[39;49m\u001b[43m}\u001b[49m\u001b[43m)\u001b[49m\n\u001b[32m      7\u001b[39m \u001b[38;5;28mprint\u001b[39m(this_dict)\n",
      "\u001b[31mTypeError\u001b[39m: update expected at most 1 argument, got 2"
     ]
    }
   ],
   "source": [
    "this_dict = {\n",
    "    \"name\": \"sugar\",\n",
    "    \"weight\": \"1Kg\",\n",
    "    \"price\": 130.35\n",
    "}\n",
    "this_dict.update({\"expiry\": \"2025-12-31\"},{\"price\": \"160.50\"})\n",
    "print(this_dict)"
   ]
  },
  {
   "cell_type": "code",
   "execution_count": 10,
   "id": "028103a7",
   "metadata": {},
   "outputs": [
    {
     "name": "stdout",
     "output_type": "stream",
     "text": [
      "{'name': 'sugar', 'weight': '1Kg', 'price': 130.35}\n",
      "{'name': 'sugar', 'weight': '1Kg', 'price': '160.50', 'expiry': '2025-12-31'}\n"
     ]
    }
   ],
   "source": [
    "print(this_dict)\n",
    "this_dict.update({\n",
    "    \"expiry\": \"2025-12-31\", \"price\": \"160.50\"\n",
    "})\n",
    "print(this_dict)"
   ]
  },
  {
   "cell_type": "code",
   "execution_count": 13,
   "id": "be0dc04f",
   "metadata": {},
   "outputs": [
    {
     "name": "stdout",
     "output_type": "stream",
     "text": [
      "{'name': 'sugar', 'price': '160.50', 'expiry': '2025-12-31'}\n",
      "{'name': 'sugar', 'price': '160.50'}\n"
     ]
    }
   ],
   "source": [
    "\n",
    "print(this_dict)\n",
    "this_dict.popitem()\n",
    "print(this_dict)"
   ]
  },
  {
   "cell_type": "code",
   "execution_count": 14,
   "id": "b540fd80",
   "metadata": {},
   "outputs": [
    {
     "name": "stdout",
     "output_type": "stream",
     "text": [
      "{'name': 'salt', 'price': 50.0}\n"
     ]
    }
   ],
   "source": [
    "this_dict_02 = {\n",
    "    \"name\": \"salt\",\n",
    "    \"weight\": \"500g\",\n",
    "    \"price\": 50.00\n",
    "}\n",
    "del this_dict_02[\"weight\"]\n",
    "print(this_dict_02)"
   ]
  },
  {
   "cell_type": "code",
   "execution_count": 16,
   "id": "d2c2225f",
   "metadata": {},
   "outputs": [
    {
     "ename": "NameError",
     "evalue": "name 'this_dict_02' is not defined",
     "output_type": "error",
     "traceback": [
      "\u001b[31m---------------------------------------------------------------------------\u001b[39m",
      "\u001b[31mNameError\u001b[39m                                 Traceback (most recent call last)",
      "\u001b[36mCell\u001b[39m\u001b[36m \u001b[39m\u001b[32mIn[16]\u001b[39m\u001b[32m, line 1\u001b[39m\n\u001b[32m----> \u001b[39m\u001b[32m1\u001b[39m \u001b[38;5;28;01mdel\u001b[39;00m \u001b[43mthis_dict_02\u001b[49m\n",
      "\u001b[31mNameError\u001b[39m: name 'this_dict_02' is not defined"
     ]
    }
   ],
   "source": [
    "del this_dict_02"
   ]
  },
  {
   "cell_type": "code",
   "execution_count": 17,
   "id": "d928166d",
   "metadata": {},
   "outputs": [
    {
     "name": "stdout",
     "output_type": "stream",
     "text": [
      "{}\n"
     ]
    }
   ],
   "source": [
    "this_dict = {\n",
    "    \"name\": \"John\",\n",
    "    \"age\": 30,\n",
    "    \"city\": \"New York\"\n",
    "}\n",
    "this_dict.clear()\n",
    "print(this_dict)"
   ]
  },
  {
   "cell_type": "code",
   "execution_count": 18,
   "id": "c884009d",
   "metadata": {},
   "outputs": [
    {
     "name": "stdout",
     "output_type": "stream",
     "text": [
      "{'name': 'Sugar', 'weight': '1kg', 'price': 130.35}\n",
      "{'name': 'Sugar', 'weight': '1kg', 'price': 130.35, 'expiry': '2025-12-31'}\n",
      "{'name': 'Sugar', 'weight': '1kg', 'price': 130.35}\n"
     ]
    }
   ],
   "source": [
    "my_dict = {\n",
    "    \"name\": \"Sugar\",\n",
    "    \"weight\": \"1kg\",\n",
    "    \"price\": 130.35,\n",
    "}\n",
    "x = my_dict.copy()\n",
    "print(x)\n",
    "my_dict[\"expiry\"] = \"2025-12-31\"\n",
    "print(my_dict)\n",
    "print(x)"
   ]
  },
  {
   "cell_type": "code",
   "execution_count": 24,
   "id": "764748c3",
   "metadata": {},
   "outputs": [
    {
     "name": "stdout",
     "output_type": "stream",
     "text": [
      "2\n",
      "1\n",
      "343\n",
      "10\n",
      "4\n",
      "21\n",
      "2.3333333333333335\n",
      "False\n"
     ]
    }
   ],
   "source": [
    "x, y = 7, 3\n",
    "print(x // y)\n",
    "print(x % y)\n",
    "print(x ** y)\n",
    "print(x + y)\n",
    "print(x - y)\n",
    "print(x * y)\n",
    "print(x / y)\n",
    "print(x == y)"
   ]
  },
  {
   "cell_type": "code",
   "execution_count": 26,
   "id": "3bb24935",
   "metadata": {},
   "outputs": [
    {
     "name": "stdout",
     "output_type": "stream",
     "text": [
      "False\n",
      "True\n"
     ]
    }
   ],
   "source": [
    "x, y = 5, 6\n",
    "print(x is y)\n",
    "print(x is not y)"
   ]
  },
  {
   "cell_type": "code",
   "execution_count": 27,
   "id": "8a57fc98",
   "metadata": {},
   "outputs": [
    {
     "name": "stdout",
     "output_type": "stream",
     "text": [
      "True\n"
     ]
    }
   ],
   "source": [
    "x = 5\n",
    "y = x\n",
    "print(x is y)"
   ]
  },
  {
   "cell_type": "code",
   "execution_count": 28,
   "id": "d61ee778",
   "metadata": {},
   "outputs": [
    {
     "name": "stdout",
     "output_type": "stream",
     "text": [
      "True\n"
     ]
    }
   ],
   "source": [
    "x = 5\n",
    "y = 5\n",
    "print(x is y)"
   ]
  },
  {
   "cell_type": "code",
   "execution_count": 30,
   "id": "41bc0dc1",
   "metadata": {},
   "outputs": [
    {
     "name": "stdout",
     "output_type": "stream",
     "text": [
      "True\n",
      "False\n"
     ]
    }
   ],
   "source": [
    "nums = [1, 2, 3, 4, 5]\n",
    "print(1 in nums)\n",
    "print(6 in nums)"
   ]
  },
  {
   "cell_type": "code",
   "execution_count": 31,
   "id": "9e8a5d4d",
   "metadata": {},
   "outputs": [
    {
     "name": "stdout",
     "output_type": "stream",
     "text": [
      "0\n"
     ]
    }
   ],
   "source": [
    "x = 5\n",
    "y = 10\n",
    "print(x & y)"
   ]
  },
  {
   "cell_type": "code",
   "execution_count": 35,
   "id": "45e5215a",
   "metadata": {},
   "outputs": [
    {
     "name": "stdout",
     "output_type": "stream",
     "text": [
      "n is odd\n"
     ]
    }
   ],
   "source": [
    "n = 21\n",
    "if n % 2 == 0:\n",
    "    print(\"n is even\")\n",
    "else:\n",
    "    print(\"n is odd\")"
   ]
  },
  {
   "cell_type": "code",
   "execution_count": 39,
   "id": "52518320",
   "metadata": {},
   "outputs": [
    {
     "name": "stdout",
     "output_type": "stream",
     "text": [
      "x is not empty\n"
     ]
    }
   ],
   "source": [
    "x = [1, 2, 3, 4, 5]\n",
    "if len(x) == 0:\n",
    "    print(\"x is empty\")\n",
    "else:\n",
    "    print(\"x is not empty\")"
   ]
  },
  {
   "cell_type": "code",
   "execution_count": 42,
   "id": "585ab0b1",
   "metadata": {},
   "outputs": [
    {
     "name": "stdout",
     "output_type": "stream",
     "text": [
      "y is not empty\n"
     ]
    }
   ],
   "source": [
    "y = [1, 2, 3]\n",
    "if y:\n",
    "    print(\"y is not empty\")\n",
    "else:\n",
    "    print(\"y is empty\")"
   ]
  },
  {
   "cell_type": "code",
   "execution_count": 47,
   "id": "4fd42e27",
   "metadata": {},
   "outputs": [
    {
     "name": "stdout",
     "output_type": "stream",
     "text": [
      "r should be positive\n"
     ]
    }
   ],
   "source": [
    "r = 0\n",
    "if r <= 0:\n",
    "    print(\"r should be positive\")\n",
    "else:\n",
    "    c = 2*3.14*r\n",
    "    print(c)"
   ]
  },
  {
   "cell_type": "code",
   "execution_count": 1,
   "id": "d7200599",
   "metadata": {},
   "outputs": [
    {
     "name": "stdout",
     "output_type": "stream",
     "text": [
      "The circumference of the circle is 43.96\n"
     ]
    }
   ],
   "source": [
    "PI_VALUE = 3.14\n",
    "r = 7\n",
    "\n",
    "if r <= 0:\n",
    "    print(\"r should be positive\")\n",
    "else:\n",
    "    circumference = 2 * PI_VALUE * r\n",
    "    print(f\"The circumference of the circle is\", circumference)"
   ]
  },
  {
   "cell_type": "code",
   "execution_count": 1,
   "id": "17fd6d51",
   "metadata": {},
   "outputs": [
    {
     "name": "stdout",
     "output_type": "stream",
     "text": [
      "The length of the hypotenuse is 13.0\n"
     ]
    }
   ],
   "source": [
    "#write a python program to calculate the length of the hypotenus of a right angle triangle using the Pythagorean theorem\n",
    " #•The programe should take the length of the two shorter sides (legs) as input from the user.\n",
    " #•Then it should calculate and display the length of the hypotenuse.\n",
    "\n",
    "side_1 =  5\n",
    "side_2 = 12\n",
    "\n",
    "if side_1 > 0 and side_2 > 0:\n",
    "    hypotenuse = (side_1 ** 2 + side_2 ** 2) ** 0.5\n",
    "    print(\"The length of the hypotenuse is\", hypotenuse)\n",
    "else:\n",
    "    print(\"The lengths of the sides must be positive numbers\")"
   ]
  }
 ],
 "metadata": {
  "kernelspec": {
   "display_name": "Python 3",
   "language": "python",
   "name": "python3"
  },
  "language_info": {
   "codemirror_mode": {
    "name": "ipython",
    "version": 3
   },
   "file_extension": ".py",
   "mimetype": "text/x-python",
   "name": "python",
   "nbconvert_exporter": "python",
   "pygments_lexer": "ipython3",
   "version": "3.13.4"
  }
 },
 "nbformat": 4,
 "nbformat_minor": 5
}
