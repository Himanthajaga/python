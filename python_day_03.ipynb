{
 "cells": [
  {
   "cell_type": "code",
   "execution_count": 14,
   "id": "b5ec2d47",
   "metadata": {},
   "outputs": [
    {
     "name": "stdout",
     "output_type": "stream",
     "text": [
      "12 is largest\n"
     ]
    }
   ],
   "source": [
    "# write a python program to decide largest of three numbers\n",
    "num_1 = 10\n",
    "num_2 = 11\n",
    "num_3 = 12\n",
    "\n",
    "if num_1 > num_2 and num_1 > num_3:\n",
    "    print( num_1 ,\"is largest\")\n",
    "elif num_2 > num_1 and num_2 > num_3:\n",
    "    print( num_2 ,\"is largest\")\n",
    "else:\n",
    "    print( num_3 ,\"is largest\")"
   ]
  },
  {
   "cell_type": "code",
   "execution_count": 21,
   "id": "bcba0ca8",
   "metadata": {},
   "outputs": [
    {
     "name": "stdout",
     "output_type": "stream",
     "text": [
      "19 16 15\n"
     ]
    }
   ],
   "source": [
    "# slightly change the above program to display numbers in descending order\n",
    "num_1 = 16\n",
    "num_2 = 15\n",
    "num_3 = 19\n",
    "\n",
    "if num_1 >= num_2 and num_1 >= num_3 and num_2 >= num_3:\n",
    "    print(num_1, num_2, num_3)\n",
    "elif num_2 >= num_1 and num_2 >= num_3 and num_1 >= num_3:\n",
    "   print(num_2, num_1, num_3)\n",
    "elif num_3 >= num_1 and num_3 >= num_2 and num_1 >= num_2:\n",
    "    print(num_3, num_1, num_2)\n",
    "elif num_3 >= num_2 and num_3 >= num_1 and num_2 >= num_1:\n",
    "    print(num_3, num_2, num_1)\n",
    "elif num_2 >= num_1 and num_2 >= num_3 and num_3 >= num_1:\n",
    "    print(num_2, num_3, num_1)\n",
    "else:\n",
    "    print(num_1, num_3, num_2)"
   ]
  },
  {
   "cell_type": "code",
   "execution_count": 23,
   "id": "4ff5e722",
   "metadata": {},
   "outputs": [
    {
     "name": "stdout",
     "output_type": "stream",
     "text": [
      "22 16 15\n"
     ]
    }
   ],
   "source": [
    "# slightly change the above program to display numbers in descending order\n",
    "num_1 = 16\n",
    "num_2 = 15\n",
    "num_3 = 22\n",
    "\n",
    "if num_1 >= num_2 and num_1 >= num_3:\n",
    "    if num_2 >= num_3:\n",
    "        print(num_1, num_2, num_3)\n",
    "    else:\n",
    "        print(num_1, num_3, num_2)\n",
    "elif num_2 >= num_1 and num_2 >= num_3:\n",
    "    if num_1 >= num_3:\n",
    "        print(num_2, num_1, num_3)\n",
    "    else:\n",
    "        print(num_2, num_3, num_1)\n",
    "\n",
    "else:\n",
    "        if num_1 >= num_2:\n",
    "            print(num_3, num_1, num_2)\n",
    "        else:\n",
    "            print(num_3, num_2, num_1)"
   ]
  },
  {
   "cell_type": "code",
   "execution_count": 25,
   "id": "953fba57",
   "metadata": {},
   "outputs": [
    {
     "name": "stdout",
     "output_type": "stream",
     "text": [
      "Odd\n"
     ]
    }
   ],
   "source": [
    "# Ternary  Operator in Python\n",
    "x = 13\n",
    "\n",
    "result = \"Even\" if x % 2 == 0 else \"Odd\"\n",
    "print(result)"
   ]
  },
  {
   "cell_type": "code",
   "execution_count": 30,
   "id": "077be83a",
   "metadata": {},
   "outputs": [
    {
     "name": "stdout",
     "output_type": "stream",
     "text": [
      "Absolute_value is: 10\n"
     ]
    }
   ],
   "source": [
    "# Given any integer n , print the absolute value using a ternary operator(without using abs() function)\n",
    "n = -10\n",
    "absolute_value = n if n >= 0 else -n\n",
    "print(\"Absolute_value is:\",absolute_value)"
   ]
  },
  {
   "cell_type": "code",
   "execution_count": null,
   "id": "d01ed70a",
   "metadata": {},
   "outputs": [
    {
     "name": "stdout",
     "output_type": "stream",
     "text": [
      "Variable is zero\n"
     ]
    }
   ],
   "source": [
    "# Structural Pattern Matching in Python 3.10+\n",
    "variable = 10\n",
    "match variable:\n",
    "    case 10:\n",
    "        print(\"Variable is ten\")\n",
    "    case 1:\n",
    "        print(\"Variable is one\")\n",
    "    case 2 | 3 | 4:\n",
    "        print(\"Variable is two, three, or four\")\n",
    "    case _:\n",
    "        print(\"Variable is something else\")"
   ]
  },
  {
   "cell_type": "code",
   "execution_count": 43,
   "id": "9b7d26e2",
   "metadata": {},
   "outputs": [
    {
     "name": "stdout",
     "output_type": "stream",
     "text": [
      "Thursday\n"
     ]
    }
   ],
   "source": [
    "# write a python program that takes an integer input from the user representing a day of the week (1-7) and prints the corresponding day name using structural pattern matching.\n",
    "num_1 = int(input(\"Enter a number:\"))\n",
    "match num_1:\n",
    "    case 1:\n",
    "        print(\"Monday\")\n",
    "    case 2:\n",
    "        print(\"Tuesday\")\n",
    "    case 3:\n",
    "        print(\"Wednesday\")\n",
    "    case 4:\n",
    "        print(\"Thursday\")\n",
    "    case 5:\n",
    "        print(\"Friday\")\n",
    "    case 6:\n",
    "        print(\"Saturday\")\n",
    "    case 7:\n",
    "        print(\"Sunday\")\n",
    "    case _:\n",
    "        print(\"Invalid input, please enter a number between 1 and 7.\")"
   ]
  },
  {
   "cell_type": "code",
   "execution_count": 54,
   "id": "88a5ccad",
   "metadata": {},
   "outputs": [
    {
     "name": "stdout",
     "output_type": "stream",
     "text": [
      "Stop!\n"
     ]
    }
   ],
   "source": [
    "color = input(\"Enter a color (red, green, yellow,blinking): \")\n",
    "match color:\n",
    "    case \"red\" | \"blinking\":\n",
    "        print(\"Stop!\")\n",
    "    case \"green\":\n",
    "        print(\"Go!\")\n",
    "    case \"yellow\":\n",
    "        print(\"Slow down!\")\n",
    "    case _:\n",
    "        print(\"invalid color\")"
   ]
  },
  {
   "cell_type": "code",
   "execution_count": 1,
   "id": "eb2cd045",
   "metadata": {},
   "outputs": [
    {
     "name": "stdout",
     "output_type": "stream",
     "text": [
      "24\n"
     ]
    }
   ],
   "source": [
    "numbers = [2,3,4]\n",
    "match numbers :\n",
    "    case(x,y):\n",
    "        print(x * y)\n",
    "    case (x, y, z):\n",
    "        print(x * y * z)\n",
    "    case _:\n",
    "        print(\"No match found\")"
   ]
  },
  {
   "cell_type": "code",
   "execution_count": 9,
   "id": "13a431a3",
   "metadata": {},
   "outputs": [
    {
     "name": "stdout",
     "output_type": "stream",
     "text": [
      "Average temperature for the first two days: 31.0\n"
     ]
    }
   ],
   "source": [
    "temperature_readings = [30, 32]\n",
    "match temperature_readings:\n",
    "    case(x,y):\n",
    "        print(\"Average temperature for the first two days:\" ,(x + y) / 2)\n",
    "    case (w, x, y, z):\n",
    "         print(\"difference between the sum of the first two and last two days:\" ,(w + x) - (y + z))\n",
    "    case _:\n",
    "        print(\"unsupported number of readings\")"
   ]
  },
  {
   "cell_type": "code",
   "execution_count": 10,
   "id": "79e94377",
   "metadata": {},
   "outputs": [
    {
     "name": "stdout",
     "output_type": "stream",
     "text": [
      "2\n",
      "4\n"
     ]
    }
   ],
   "source": [
    "my_list = [1, 2, 3, 4, 5]\n",
    "for item in my_list:\n",
    "    if item % 2 == 0:\n",
    "        print(item)"
   ]
  },
  {
   "cell_type": "code",
   "execution_count": 15,
   "id": "06f6dcf8",
   "metadata": {},
   "outputs": [
    {
     "name": "stdout",
     "output_type": "stream",
     "text": [
      "1 squared is 1\n",
      "2 squared is 4\n",
      "3 squared is 9\n",
      "4 squared is 16\n",
      "5 squared is 25\n",
      "6 squared is 36\n",
      "7 squared is 49\n",
      "8 squared is 64\n",
      "9 squared is 81\n",
      "10 squared is 100\n"
     ]
    }
   ],
   "source": [
    "# write a python program to display square values of first ten integeres\n",
    "for i in range(1,11):\n",
    "\n",
    "    print(i, \"squared is\", i ** 2)"
   ]
  },
  {
   "cell_type": "code",
   "execution_count": 27,
   "id": "20ed73dd",
   "metadata": {},
   "outputs": [
    {
     "name": "stdout",
     "output_type": "stream",
     "text": [
      "square numbers below 45 are:\n",
      "1\n",
      "4\n",
      "9\n",
      "16\n",
      "25\n",
      "36\n"
     ]
    }
   ],
   "source": [
    "# get a positive number as a user input.then display all square numbers which are below than the input number\n",
    "num = int((input(\"Enter a positive number: \")))\n",
    "if num <= 0:\n",
    "    print(\"Please enter a positive number.\")\n",
    "else:\n",
    "    print(\"square numbers below\",num,\"are:\")\n",
    "    for i in range(1,num):\n",
    "        square = i ** 2\n",
    "        if square < num:\n",
    "            print(square)\n",
    "        else:\n",
    "            break"
   ]
  },
  {
   "cell_type": "code",
   "execution_count": null,
   "id": "32538e7e",
   "metadata": {},
   "outputs": [],
   "source": [
    "# write a python code to demostrate the linear search algorithm\n",
    "\n",
    "my_list = [10,2,3,5,6,7,6]\n",
    "target = int(input(\"Enter a number to search: \"))\n",
    "found = False\n",
    "for i in my_list:\n",
    "    if i == target:\n",
    "        print(\"Number found at index:\", i)\n",
    "        break\n",
    "    found = True\n",
    "if not found:\n",
    "    print(\"Number not found in the list.\")"
   ]
  },
  {
   "cell_type": "code",
   "execution_count": 55,
   "id": "7d533329",
   "metadata": {},
   "outputs": [
    {
     "name": "stdout",
     "output_type": "stream",
     "text": [
      "Number found\n"
     ]
    }
   ],
   "source": [
    "my_list = [10,2,3,5,6]\n",
    "target = int(input(\"Enter a number to search: \"))\n",
    "\n",
    "for i in my_list:\n",
    "    if i == target:\n",
    "        print(\"Number found\")\n",
    "        break\n",
    "\n",
    "else:\n",
    "        print(\"Number not found\")"
   ]
  },
  {
   "cell_type": "code",
   "execution_count": null,
   "id": "4de12a11",
   "metadata": {},
   "outputs": [
    {
     "name": "stdout",
     "output_type": "stream",
     "text": [
      "Maximum value in the list is: 100\n"
     ]
    }
   ],
   "source": [
    "# write a python program that take a list of integers and find the maximum value using a for loop.do not use built in max function\n",
    "\n",
    "integers = [10, 20, 30, 40, 50, 60, 70, 80, 90, 100]\n",
    "max_value = integers[0]\n",
    "for i in integers:\n",
    "    if i > max_value:\n",
    "        max_value = i\n",
    "print(\"Maximum value in the list is:\", max_value)\n"
   ]
  },
  {
   "cell_type": "code",
   "execution_count": 65,
   "id": "c2209985",
   "metadata": {},
   "outputs": [
    {
     "name": "stdout",
     "output_type": "stream",
     "text": [
      "Maximum value in the list is: 900\n"
     ]
    }
   ],
   "source": [
    "integers = [100, 20, 300, 400, 5, 6, 7, 80, 90, 900]\n",
    "max_value = integers[0]\n",
    "for i in integers:\n",
    "    if i > max_value:\n",
    "        max_value = i\n",
    "print(\"Maximum value in the list is:\", max_value)"
   ]
  },
  {
   "cell_type": "code",
   "execution_count": 66,
   "id": "14ad6fe4",
   "metadata": {},
   "outputs": [
    {
     "name": "stdout",
     "output_type": "stream",
     "text": [
      "Squared values: [100, 4, 9, 25, 36, 49, 36]\n"
     ]
    }
   ],
   "source": [
    "my_list = [10,2,3,5,6,7,6]\n",
    "results = [item **2 for item in my_list]\n",
    "print(\"Squared values:\", results)"
   ]
  },
  {
   "cell_type": "code",
   "execution_count": 67,
   "id": "f77826d0",
   "metadata": {},
   "outputs": [
    {
     "name": "stdout",
     "output_type": "stream",
     "text": [
      "Squares of even numbers between 1 and 10: [4, 16, 36, 64, 100]\n"
     ]
    }
   ],
   "source": [
    "# create a list with the squares of even numbers between 1 & 10(incusive) using list comprehension\n",
    "even_squares = [i ** 2 for i in range(1, 11) if i % 2 == 0]\n",
    "print(\"Squares of even numbers between 1 and 10:\", even_squares)"
   ]
  },
  {
   "cell_type": "code",
   "execution_count": 76,
   "id": "d7990792",
   "metadata": {},
   "outputs": [
    {
     "name": "stdout",
     "output_type": "stream",
     "text": [
      "Positive integers below 5 are:\n",
      "1\n",
      "2\n",
      "3\n",
      "4\n"
     ]
    }
   ],
   "source": [
    "# write a python program using a while loop to display all positive integers which are below than the user input n. (you should check the input validity)cantuse for loop\n",
    "n = int(input(\"Enter a positive integer: \"))\n",
    "while n <= 0:\n",
    "    print(\"Please enter a valid positive integer.\")\n",
    "    n = int(input(\"Enter a positive integer: \"))\n",
    "print(\"Positive integers below\", n, \"are:\")\n",
    "count = 0\n",
    "while count < n - 1:\n",
    "    count += 1\n",
    "    print(count)\n",
    "    \n"
   ]
  },
  {
   "cell_type": "code",
   "execution_count": 78,
   "id": "25d3c0ed",
   "metadata": {},
   "outputs": [
    {
     "name": "stdout",
     "output_type": "stream",
     "text": [
      "Reversed number is: 76543\n"
     ]
    }
   ],
   "source": [
    "# write a python program to revrse the digits of a given integer using a while loop\n",
    "num =34567\n",
    "\n",
    "reversed_num = 0\n",
    "while num > 0:\n",
    "    digit = num % 10\n",
    "    reversed_num = reversed_num * 10 + digit\n",
    "    num //= 10\n",
    "print(\"Reversed number is:\", reversed_num)"
   ]
  },
  {
   "cell_type": "code",
   "execution_count": null,
   "id": "3bac298a",
   "metadata": {},
   "outputs": [],
   "source": []
  }
 ],
 "metadata": {
  "kernelspec": {
   "display_name": "Python 3",
   "language": "python",
   "name": "python3"
  },
  "language_info": {
   "codemirror_mode": {
    "name": "ipython",
    "version": 3
   },
   "file_extension": ".py",
   "mimetype": "text/x-python",
   "name": "python",
   "nbconvert_exporter": "python",
   "pygments_lexer": "ipython3",
   "version": "3.13.4"
  }
 },
 "nbformat": 4,
 "nbformat_minor": 5
}
