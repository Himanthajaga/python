{
 "cells": [
  {
   "cell_type": "code",
   "execution_count": 1,
   "id": "6f998281",
   "metadata": {},
   "outputs": [
    {
     "data": {
      "text/plain": [
       "17"
      ]
     },
     "execution_count": 1,
     "metadata": {},
     "output_type": "execute_result"
    }
   ],
   "source": [
    "my_list = [2,4,5,6]\n",
    "sum(my_list)"
   ]
  },
  {
   "cell_type": "code",
   "execution_count": 2,
   "id": "4774eb51",
   "metadata": {},
   "outputs": [
    {
     "data": {
      "text/plain": [
       "62"
      ]
     },
     "execution_count": 2,
     "metadata": {},
     "output_type": "execute_result"
    }
   ],
   "source": [
    "my_list= [2,34,3]\n",
    "sum(my_list,23)"
   ]
  },
  {
   "cell_type": "code",
   "execution_count": 10,
   "id": "f37cc1cb",
   "metadata": {},
   "outputs": [
    {
     "name": "stdout",
     "output_type": "stream",
     "text": [
      "True\n"
     ]
    }
   ],
   "source": [
    "x = 1.0\n",
    "print(isinstance(x,(int,float)))\n",
    "# isinstance(x,float)\n",
    "# isinstance(x,str)"
   ]
  },
  {
   "cell_type": "code",
   "execution_count": 11,
   "id": "8895787a",
   "metadata": {},
   "outputs": [
    {
     "name": "stdout",
     "output_type": "stream",
     "text": [
      "My name is John and I am 30 years old.\n"
     ]
    }
   ],
   "source": [
    "name = \"John\"\n",
    "age = 30\n",
    "print(f\"My name is {name} and I am {age} years old.\")"
   ]
  },
  {
   "cell_type": "code",
   "execution_count": 1,
   "id": "c281181f",
   "metadata": {},
   "outputs": [],
   "source": [
    "class Student:\n",
    "    name = \"\"\n",
    "    age = 0"
   ]
  },
  {
   "cell_type": "code",
   "execution_count": 2,
   "id": "66c7d125",
   "metadata": {},
   "outputs": [
    {
     "name": "stdout",
     "output_type": "stream",
     "text": [
      "\n",
      "0\n"
     ]
    }
   ],
   "source": [
    "student_1 = Student()\n",
    "print(student_1.name)\n",
    "print(student_1.age)"
   ]
  },
  {
   "cell_type": "code",
   "execution_count": 14,
   "id": "4ae6cc46",
   "metadata": {},
   "outputs": [
    {
     "name": "stdout",
     "output_type": "stream",
     "text": [
      "This car has 4 wheels.\n"
     ]
    }
   ],
   "source": [
    "class Car:\n",
    "    wheels = 4\n",
    "\n",
    "    def display_info(self):\n",
    "        print(f\"This car has {self.wheels} wheels.\")\n",
    "    def drive_to(self, destination):\n",
    "        print(f\"Driving to {destination} on {self.wheels}\")\n",
    "\n",
    "car_1 = Car()\n",
    "car_1.display_info()"
   ]
  },
  {
   "cell_type": "code",
   "execution_count": 23,
   "id": "9ba155bf",
   "metadata": {},
   "outputs": [
    {
     "name": "stdout",
     "output_type": "stream",
     "text": [
      "constructor has been called\n",
      "Red color Toyota drives to the school.\n",
      "None\n",
      "Redcolor Toyota runs on 4 wheels.\n",
      "None\n"
     ]
    }
   ],
   "source": [
    "\n",
    "class Car:\n",
    "    wheels = 4\n",
    "    def __init__(self,brand,color):\n",
    "        print(\"constructor has been called\")\n",
    "        self.brand = brand\n",
    "        self.color = color\n",
    "\n",
    "\n",
    "    def drive_to(self,destination):\n",
    "        print(f\"{self.color} color {self.brand} drives to the {destination}.\")\n",
    "\n",
    "    def display_info(self):\n",
    "        print(f\"{self.color}color {self.brand} runs on {self.wheels} wheels.\")\n",
    "\n",
    "    \n",
    "\n",
    "\n",
    "\n",
    "car_2 = Car(\"Toyota\", \"Red\")\n",
    "print(car_2.drive_to(\"school\"))\n",
    "print(car_2.display_info())\n",
    "\n",
    "\n"
   ]
  },
  {
   "cell_type": "code",
   "execution_count": 28,
   "id": "f20f698e",
   "metadata": {},
   "outputs": [
    {
     "name": "stdout",
     "output_type": "stream",
     "text": [
      "The area is 50 and the perimeter is 30.\n"
     ]
    }
   ],
   "source": [
    "class Rectangle:\n",
    "\n",
    "    def __init__(self, length, width):\n",
    "        self.length = length\n",
    "        self.width = width\n",
    "    \n",
    "    def area(self):\n",
    "        return self.length * self.width\n",
    "    \n",
    "    def get_perimeter(self):\n",
    "        return 2 * (self.length + self.width)\n",
    "    \n",
    "    def describe(self):\n",
    "        print(f\"The area is {self.area()} and the perimeter is {self.get_perimeter()}.\")\n",
    "\n",
    "rectangle = Rectangle(10,5)\n",
    "rectangle.describe()\n",
    "\n",
    "\n",
    "    \n"
   ]
  }
 ],
 "metadata": {
  "kernelspec": {
   "display_name": "Python 3",
   "language": "python",
   "name": "python3"
  },
  "language_info": {
   "codemirror_mode": {
    "name": "ipython",
    "version": 3
   },
   "file_extension": ".py",
   "mimetype": "text/x-python",
   "name": "python",
   "nbconvert_exporter": "python",
   "pygments_lexer": "ipython3",
   "version": "3.13.4"
  }
 },
 "nbformat": 4,
 "nbformat_minor": 5
}
